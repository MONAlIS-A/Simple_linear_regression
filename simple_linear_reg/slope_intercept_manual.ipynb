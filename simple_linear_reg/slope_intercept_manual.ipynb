{
 "cells": [
  {
   "cell_type": "markdown",
   "id": "eff2de81-14ca-4ede-b342-e2664069cef7",
   "metadata": {},
   "source": [
    "#  To manually compute the slope (M) and y-intercept (C) using Ordinary Least Squares Linear Regression."
   ]
  },
  {
   "cell_type": "markdown",
   "id": "dfd0923c-1bb7-4adb-9cf1-f02ac30b5766",
   "metadata": {},
   "source": [
    "# Mean of Weight and Price"
   ]
  },
  {
   "cell_type": "code",
   "execution_count": 1,
   "id": "0839b606-616e-4b02-91a9-83e63981b8fa",
   "metadata": {},
   "outputs": [
    {
     "name": "stdout",
     "output_type": "stream",
     "text": [
      "Mean of Weight is: 4.571428571428571\n",
      "Mean of Price is : 47.142857142857146\n"
     ]
    }
   ],
   "source": [
    "import numpy as np\n",
    "\n",
    "\n",
    "weight=[2,4,5,3,6,5,7]\n",
    "price=[35,60,20,50,50,55,60]\n",
    "\n",
    "arr_weight=np.array(weight)\n",
    "arr_price=np.array(price)\n",
    "\n",
    "def mean(n):\n",
    "    sum=0\n",
    "    count=0\n",
    "    for num in n:\n",
    "        sum=sum+num\n",
    "        count=count+1\n",
    "    \n",
    "    avg=sum/count\n",
    "    return avg\n",
    "mean_weight=mean( arr_weight)\n",
    "print('Mean of Weight is:',mean_weight)\n",
    "\n",
    "mean_price=mean(arr_price)\n",
    "print('Mean of Price is :',mean_price)\n",
    "\n"
   ]
  },
  {
   "cell_type": "markdown",
   "id": "be15ed0a-8bb6-42c0-92db-b1e53de2dabc",
   "metadata": {},
   "source": [
    "# (weight-mean of weight) and (price-mean of price)"
   ]
  },
  {
   "cell_type": "code",
   "execution_count": 2,
   "id": "f55c74ea-9bf9-450d-b32a-d652e20145ed",
   "metadata": {},
   "outputs": [
    {
     "name": "stdout",
     "output_type": "stream",
     "text": [
      "[-2.571428571428571, -0.5714285714285712, 0.4285714285714288, -1.5714285714285712, 1.4285714285714288, 0.4285714285714288, 2.428571428571429]\n",
      "[-12.142857142857146, 12.857142857142854, -27.142857142857146, 2.857142857142854, 2.857142857142854, 7.857142857142854, 12.857142857142854]\n"
     ]
    }
   ],
   "source": [
    "def diffe(m,r):\n",
    "\n",
    "\n",
    "    arr_sub=[]\n",
    "\n",
    "    for num1 in m:\n",
    "        sub=float(num1)-r\n",
    "    \n",
    "        arr_sub.append(sub)\n",
    "   \n",
    "    print(arr_sub)\n",
    "\n",
    "    arr_=np.array(arr_sub)\n",
    "    return arr_\n",
    "    \n",
    "\n",
    "sub_arr_weight= diffe(arr_weight,mean_weight)\n",
    "\n",
    "sub_arr_price= diffe(arr_price, mean_price)\n",
    "\n"
   ]
  },
  {
   "cell_type": "markdown",
   "id": "5375e8e8-5a70-415e-9a0b-88a0a49449e8",
   "metadata": {},
   "source": [
    "# Slope, m = Σ((x - x̄) * (y - ȳ)) / Σ((x - x̄)^2)"
   ]
  },
  {
   "cell_type": "code",
   "execution_count": 3,
   "id": "1ced91a9-b487-4659-ba72-2d5ed8c50ed1",
   "metadata": {},
   "outputs": [
    {
     "name": "stdout",
     "output_type": "stream",
     "text": [
      "2.620967741935484\n"
     ]
    }
   ],
   "source": [
    "\n",
    "\n",
    "\n",
    "mul= np.multiply(sub_arr_weight,sub_arr_price)\n",
    "square_mean_w=np.square(sub_arr_weight)\n",
    "\n",
    "def Sumation(n):\n",
    "    sum=0\n",
    "    for num3 in n:\n",
    "        sum=sum+num3\n",
    "    return sum\n",
    "\n",
    "\n",
    "\n",
    "\n",
    "slope_m = Sumation(mul)/Sumation(square_mean_w)\n",
    "print(slope_m)\n",
    "\n"
   ]
  },
  {
   "cell_type": "markdown",
   "id": "6e46e67c-96de-4e2b-8dc4-21ae1ba0f998",
   "metadata": {},
   "source": [
    "# Intercept, c = ȳ - m * x̄"
   ]
  },
  {
   "cell_type": "code",
   "execution_count": 5,
   "id": "d543cb58-c14f-4a65-b442-3449dbf0d5a0",
   "metadata": {
    "scrolled": true
   },
   "outputs": [
    {
     "name": "stdout",
     "output_type": "stream",
     "text": [
      "35.16129032258065\n"
     ]
    }
   ],
   "source": [
    "intercept=mean_price-slope_m*mean_weight\n",
    "print(intercept)"
   ]
  },
  {
   "cell_type": "markdown",
   "id": "0907da84-5ec7-4ec7-85db-78b2f29d9c52",
   "metadata": {},
   "source": [
    "# plotting using mean "
   ]
  },
  {
   "cell_type": "code",
   "execution_count": 8,
   "id": "d491bed8-f502-47b3-ba4d-390eb093b08a",
   "metadata": {},
   "outputs": [
    {
     "data": {
      "text/html": [
       "<div>\n",
       "<style scoped>\n",
       "    .dataframe tbody tr th:only-of-type {\n",
       "        vertical-align: middle;\n",
       "    }\n",
       "\n",
       "    .dataframe tbody tr th {\n",
       "        vertical-align: top;\n",
       "    }\n",
       "\n",
       "    .dataframe thead th {\n",
       "        text-align: right;\n",
       "    }\n",
       "</style>\n",
       "<table border=\"1\" class=\"dataframe\">\n",
       "  <thead>\n",
       "    <tr style=\"text-align: right;\">\n",
       "      <th></th>\n",
       "      <th>weight</th>\n",
       "      <th>price</th>\n",
       "    </tr>\n",
       "  </thead>\n",
       "  <tbody>\n",
       "    <tr>\n",
       "      <th>0</th>\n",
       "      <td>2</td>\n",
       "      <td>35</td>\n",
       "    </tr>\n",
       "    <tr>\n",
       "      <th>1</th>\n",
       "      <td>4</td>\n",
       "      <td>60</td>\n",
       "    </tr>\n",
       "    <tr>\n",
       "      <th>2</th>\n",
       "      <td>5</td>\n",
       "      <td>20</td>\n",
       "    </tr>\n",
       "    <tr>\n",
       "      <th>3</th>\n",
       "      <td>3</td>\n",
       "      <td>50</td>\n",
       "    </tr>\n",
       "    <tr>\n",
       "      <th>4</th>\n",
       "      <td>6</td>\n",
       "      <td>50</td>\n",
       "    </tr>\n",
       "    <tr>\n",
       "      <th>5</th>\n",
       "      <td>5</td>\n",
       "      <td>55</td>\n",
       "    </tr>\n",
       "    <tr>\n",
       "      <th>6</th>\n",
       "      <td>7</td>\n",
       "      <td>60</td>\n",
       "    </tr>\n",
       "  </tbody>\n",
       "</table>\n",
       "</div>"
      ],
      "text/plain": [
       "   weight  price\n",
       "0       2     35\n",
       "1       4     60\n",
       "2       5     20\n",
       "3       3     50\n",
       "4       6     50\n",
       "5       5     55\n",
       "6       7     60"
      ]
     },
     "execution_count": 8,
     "metadata": {},
     "output_type": "execute_result"
    }
   ],
   "source": [
    "import pandas as pd\n",
    "from matplotlib import pyplot as plt\n",
    "veg_dic={ 'weight':[2,4,5,3,6,5,7], 'price':[35,60,20,50,50,55,60]}\n",
    "df= pd.DataFrame(veg_dic)\n",
    "df"
   ]
  },
  {
   "cell_type": "code",
   "execution_count": 52,
   "id": "1ab7350a-2e6e-4dbb-842f-ae37a64e4a64",
   "metadata": {},
   "outputs": [
    {
     "data": {
      "image/png": "[encoded data removed]",
      "text/plain": [
       "<Figure size 640x480 with 1 Axes>"
      ]
     },
     "metadata": {},
     "output_type": "display_data"
    }
   ],
   "source": [
    "def Scatter():\n",
    "    plt.scatter(df['weight'],df['price'], color='green')\n",
    "    plt.xlabel('weight')\n",
    "    plt.ylabel('price')\n",
    "    plt.title('vegetable price as weight')\n",
    "    plt.scatter(mean_weight,mean_price ,color='red')\n",
    "Scatter()"
   ]
  },
  {
   "cell_type": "code",
   "execution_count": 54,
   "id": "66b193ea-9ab9-4f72-a9b2-7cc7ea48ab52",
   "metadata": {},
   "outputs": [
    {
     "data": {
      "text/plain": [
       "[<matplotlib.lines.Line2D at 0x1b819fb45f0>]"
      ]
     },
     "execution_count": 54,
     "metadata": {},
     "output_type": "execute_result"
    },
    {
     "data": {
      "image/png": "[encoded data removed]",
      "text/plain": [
       "<Figure size 640x480 with 1 Axes>"
      ]
     },
     "metadata": {},
     "output_type": "display_data"
    }
   ],
   "source": [
    "def predict(n):\n",
    "    pre_y=[]\n",
    "    for num in n:\n",
    "        y=slope_m*num+intercept\n",
    "        pre_y.append(y)\n",
    "    predic=np.array(pre_y)\n",
    "    return predic\n",
    "predicted=predict(arr_weight)\n",
    "Scatter()\n",
    "plt.scatter(df['weight'],predicted,color='purple')\n",
    "plt.plot(df['weight'],predicted,color='black')\n"
   ]
  },
  {
   "cell_type": "code",
   "execution_count": 56,
   "id": "ee5eb819-6e6a-4503-97fd-327fd0b3acd6",
   "metadata": {},
   "outputs": [],
   "source": [
    "#y=df.drop('predicted value of weight',axis=1)\n",
    "#y.head()\n",
    "# delete one column \n",
    "\n",
    "#df['yu']=pd.DataFrame(predicted)\n",
    "\n",
    "# delete any column\n",
    "\n",
    "#del df['yu']\n",
    "#df\n",
    "\n",
    "\n",
    "\n",
    "#df.head()"
   ]
  },
  {
   "cell_type": "code",
   "execution_count": 57,
   "id": "3fe0fcad-29c1-4392-9fdf-c816cce9911b",
   "metadata": {},
   "outputs": [],
   "source": [
    "\n"
   ]
  },
  {
   "cell_type": "code",
   "execution_count": null,
   "id": "b3b97369-59c3-41e8-b87b-c5d84a9fb065",
   "metadata": {},
   "outputs": [],
   "source": []
  }
 ],
 "metadata": {
  "kernelspec": {
   "display_name": "Python 3 (ipykernel)",
   "language": "python",
   "name": "python3"
  },
  "language_info": {
   "codemirror_mode": {
    "name": "ipython",
    "version": 3
   },
   "file_extension": ".py",
   "mimetype": "text/x-python",
   "name": "python",
   "nbconvert_exporter": "python",
   "pygments_lexer": "ipython3",
   "version": "3.12.4"
  }
 },
 "nbformat": 4,
 "nbformat_minor": 5
}
